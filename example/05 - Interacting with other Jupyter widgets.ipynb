{
 "cells": [
  {
   "cell_type": "code",
   "execution_count": 1,
   "metadata": {},
   "outputs": [],
   "source": [
    "import pydeck as pdk\n",
    "import pandas as pd\n",
    "mapbox_key='pk.eyJ1IjoidnpoeXZvdiIsImEiOiJjazk5dmFpem4wMzBhM21zN3VmMWkwd3V3In0.SA5rXlodpUcoiQmCqqvKZw'"
   ]
  },
  {
   "cell_type": "markdown",
   "metadata": {},
   "source": [
    "# Plotting lights at night\n",
    "\n",
    "NASA has collected global light emission data for over 30 years. The data set is a deeply fascinating one and has been used for news stories on the Syrian Civil War [[1]](https://time.com/3741451/syria-lights-civil-war-satellite/), North Korea [[2]](https://www.cbsnews.com/pictures/north-korea-hermit-country-space-photos/4/), and economic growth [[3]](https://qz.com/959563/nasas-black-marble-map-shows-the-light-of-human-population-centers-at-night-throughout-2016/).\n",
    "\n",
    "In this notebook, we'll use a deck.gl [HeatmapLayer](https://deck.gl/#/documentation/deckgl-api-reference/layers/heatmap-layer) to visualize some of the changes at different points in time.\n",
    "\n",
    "## Getting the data\n",
    "\n",
    "The data for Chengdu, China, is cleaned and available below. Please note this data is meant for demonstration only."
   ]
  },
  {
   "cell_type": "code",
   "execution_count": 2,
   "metadata": {},
   "outputs": [
    {
     "data": {
      "text/html": [
       "<div>\n",
       "<style scoped>\n",
       "    .dataframe tbody tr th:only-of-type {\n",
       "        vertical-align: middle;\n",
       "    }\n",
       "\n",
       "    .dataframe tbody tr th {\n",
       "        vertical-align: top;\n",
       "    }\n",
       "\n",
       "    .dataframe thead th {\n",
       "        text-align: right;\n",
       "    }\n",
       "</style>\n",
       "<table border=\"1\" class=\"dataframe\">\n",
       "  <thead>\n",
       "    <tr style=\"text-align: right;\">\n",
       "      <th></th>\n",
       "      <th>year</th>\n",
       "      <th>lng</th>\n",
       "      <th>lat</th>\n",
       "      <th>brightness</th>\n",
       "    </tr>\n",
       "  </thead>\n",
       "  <tbody>\n",
       "    <tr>\n",
       "      <th>0</th>\n",
       "      <td>1993</td>\n",
       "      <td>104.575</td>\n",
       "      <td>31.808</td>\n",
       "      <td>4</td>\n",
       "    </tr>\n",
       "    <tr>\n",
       "      <th>1</th>\n",
       "      <td>1993</td>\n",
       "      <td>104.583</td>\n",
       "      <td>31.808</td>\n",
       "      <td>4</td>\n",
       "    </tr>\n",
       "    <tr>\n",
       "      <th>2</th>\n",
       "      <td>1993</td>\n",
       "      <td>104.592</td>\n",
       "      <td>31.808</td>\n",
       "      <td>4</td>\n",
       "    </tr>\n",
       "    <tr>\n",
       "      <th>3</th>\n",
       "      <td>1993</td>\n",
       "      <td>104.600</td>\n",
       "      <td>31.808</td>\n",
       "      <td>4</td>\n",
       "    </tr>\n",
       "    <tr>\n",
       "      <th>4</th>\n",
       "      <td>1993</td>\n",
       "      <td>104.675</td>\n",
       "      <td>31.808</td>\n",
       "      <td>4</td>\n",
       "    </tr>\n",
       "  </tbody>\n",
       "</table>\n",
       "</div>"
      ],
      "text/plain": [
       "   year      lng     lat  brightness\n",
       "0  1993  104.575  31.808           4\n",
       "1  1993  104.583  31.808           4\n",
       "2  1993  104.592  31.808           4\n",
       "3  1993  104.600  31.808           4\n",
       "4  1993  104.675  31.808           4"
      ]
     },
     "execution_count": 2,
     "metadata": {},
     "output_type": "execute_result"
    }
   ],
   "source": [
    "LIGHTS_URL = 'https://raw.githubusercontent.com/ajduberstein/lights_at_night/master/chengdu_lights_at_night.csv'\n",
    "df = pd.read_csv(LIGHTS_URL)\n",
    "df.head()"
   ]
  },
  {
   "cell_type": "markdown",
   "metadata": {},
   "source": [
    "### Setting the colors\n",
    "pydeck does need to know the color for this data in advance of plotting it"
   ]
  },
  {
   "cell_type": "code",
   "execution_count": 3,
   "metadata": {},
   "outputs": [
    {
     "data": {
      "text/html": [
       "<div>\n",
       "<style scoped>\n",
       "    .dataframe tbody tr th:only-of-type {\n",
       "        vertical-align: middle;\n",
       "    }\n",
       "\n",
       "    .dataframe tbody tr th {\n",
       "        vertical-align: top;\n",
       "    }\n",
       "\n",
       "    .dataframe thead th {\n",
       "        text-align: right;\n",
       "    }\n",
       "</style>\n",
       "<table border=\"1\" class=\"dataframe\">\n",
       "  <thead>\n",
       "    <tr style=\"text-align: right;\">\n",
       "      <th></th>\n",
       "      <th>year</th>\n",
       "      <th>lng</th>\n",
       "      <th>lat</th>\n",
       "      <th>brightness</th>\n",
       "      <th>color</th>\n",
       "    </tr>\n",
       "  </thead>\n",
       "  <tbody>\n",
       "    <tr>\n",
       "      <th>173172</th>\n",
       "      <td>2013</td>\n",
       "      <td>104.700</td>\n",
       "      <td>30.133</td>\n",
       "      <td>18</td>\n",
       "      <td>[255, 72, 255, 255]</td>\n",
       "    </tr>\n",
       "    <tr>\n",
       "      <th>145900</th>\n",
       "      <td>2003</td>\n",
       "      <td>103.508</td>\n",
       "      <td>29.667</td>\n",
       "      <td>4</td>\n",
       "      <td>[255, 16, 255, 255]</td>\n",
       "    </tr>\n",
       "    <tr>\n",
       "      <th>257884</th>\n",
       "      <td>2011</td>\n",
       "      <td>104.633</td>\n",
       "      <td>29.542</td>\n",
       "      <td>13</td>\n",
       "      <td>[255, 52, 255, 255]</td>\n",
       "    </tr>\n",
       "    <tr>\n",
       "      <th>71898</th>\n",
       "      <td>2009</td>\n",
       "      <td>104.283</td>\n",
       "      <td>30.550</td>\n",
       "      <td>26</td>\n",
       "      <td>[255, 104, 255, 255]</td>\n",
       "    </tr>\n",
       "    <tr>\n",
       "      <th>134460</th>\n",
       "      <td>2003</td>\n",
       "      <td>104.167</td>\n",
       "      <td>30.475</td>\n",
       "      <td>5</td>\n",
       "      <td>[255, 20, 255, 255]</td>\n",
       "    </tr>\n",
       "    <tr>\n",
       "      <th>107637</th>\n",
       "      <td>2001</td>\n",
       "      <td>102.900</td>\n",
       "      <td>30.200</td>\n",
       "      <td>4</td>\n",
       "      <td>[255, 16, 255, 255]</td>\n",
       "    </tr>\n",
       "    <tr>\n",
       "      <th>277794</th>\n",
       "      <td>2005</td>\n",
       "      <td>103.750</td>\n",
       "      <td>30.600</td>\n",
       "      <td>6</td>\n",
       "      <td>[255, 24, 255, 255]</td>\n",
       "    </tr>\n",
       "    <tr>\n",
       "      <th>1605</th>\n",
       "      <td>1993</td>\n",
       "      <td>104.317</td>\n",
       "      <td>31.383</td>\n",
       "      <td>4</td>\n",
       "      <td>[255, 16, 255, 255]</td>\n",
       "    </tr>\n",
       "    <tr>\n",
       "      <th>229355</th>\n",
       "      <td>2011</td>\n",
       "      <td>104.325</td>\n",
       "      <td>31.008</td>\n",
       "      <td>25</td>\n",
       "      <td>[255, 100, 255, 255]</td>\n",
       "    </tr>\n",
       "    <tr>\n",
       "      <th>2183</th>\n",
       "      <td>1993</td>\n",
       "      <td>104.058</td>\n",
       "      <td>31.275</td>\n",
       "      <td>4</td>\n",
       "      <td>[255, 16, 255, 255]</td>\n",
       "    </tr>\n",
       "  </tbody>\n",
       "</table>\n",
       "</div>"
      ],
      "text/plain": [
       "        year      lng     lat  brightness                 color\n",
       "173172  2013  104.700  30.133          18   [255, 72, 255, 255]\n",
       "145900  2003  103.508  29.667           4   [255, 16, 255, 255]\n",
       "257884  2011  104.633  29.542          13   [255, 52, 255, 255]\n",
       "71898   2009  104.283  30.550          26  [255, 104, 255, 255]\n",
       "134460  2003  104.167  30.475           5   [255, 20, 255, 255]\n",
       "107637  2001  102.900  30.200           4   [255, 16, 255, 255]\n",
       "277794  2005  103.750  30.600           6   [255, 24, 255, 255]\n",
       "1605    1993  104.317  31.383           4   [255, 16, 255, 255]\n",
       "229355  2011  104.325  31.008          25  [255, 100, 255, 255]\n",
       "2183    1993  104.058  31.275           4   [255, 16, 255, 255]"
      ]
     },
     "execution_count": 3,
     "metadata": {},
     "output_type": "execute_result"
    }
   ],
   "source": [
    "df['color'] = df['brightness'].apply(lambda val: [255, val * 4,  255, 255])\n",
    "df.sample(10)"
   ]
  },
  {
   "cell_type": "markdown",
   "metadata": {},
   "source": [
    "## Plotting and interacting\n",
    "\n",
    "We can plot this data set of light brightness by year, configuring a slider to filter the data as below:"
   ]
  },
  {
   "cell_type": "code",
   "execution_count": 5,
   "metadata": {},
   "outputs": [
    {
     "data": {
      "text/html": [
       "\n",
       "        <iframe\n",
       "            width=\"700\"\n",
       "            height=\"500\"\n",
       "            src=\"./05 - Interacting with other Jupyter widgets.html\"\n",
       "            frameborder=\"0\"\n",
       "            allowfullscreen\n",
       "        ></iframe>\n",
       "        "
      ],
      "text/plain": [
       "<IPython.lib.display.IFrame at 0x1fbed134438>"
      ]
     },
     "metadata": {},
     "output_type": "display_data"
    },
    {
     "data": {
      "text/plain": [
       "'C:\\\\Users\\\\vzhyvov\\\\pydeck\\\\05 - Interacting with other Jupyter widgets.html'"
      ]
     },
     "execution_count": 5,
     "metadata": {},
     "output_type": "execute_result"
    }
   ],
   "source": [
    "plottable = df[df['year'] == 1993].to_dict(orient='records')\n",
    "\n",
    "view_state = pdk.ViewState(\n",
    "    latitude=31.0,\n",
    "    longitude=104.5,\n",
    "    zoom=8,\n",
    "    max_zoom=8,\n",
    "    min_zoom=8)\n",
    "scatterplot = pdk.Layer(\n",
    "    'HeatmapLayer',\n",
    "    data=plottable,\n",
    "    get_position='[lng, lat]',\n",
    "    get_weight='brightness',\n",
    "    opacity=0.5,\n",
    "    pickable=False,\n",
    "    get_radius=800)\n",
    "r = pdk.Deck(\n",
    "    mapbox_key=mapbox_key,\n",
    "    layers=[scatterplot],\n",
    "    initial_view_state=view_state,\n",
    "    views=[pdk.View(type='MapView', controller=None)])\n",
    "r.to_html('05 - Interacting with other Jupyter widgets.html')"
   ]
  },
  {
   "cell_type": "code",
   "execution_count": 6,
   "metadata": {},
   "outputs": [
    {
     "data": {
      "application/vnd.jupyter.widget-view+json": {
       "model_id": "66530e2485df49209965de3a92c16672",
       "version_major": 2,
       "version_minor": 0
      },
      "text/plain": [
       "IntSlider(value=1993, max=2013, min=1993, step=2)"
      ]
     },
     "metadata": {},
     "output_type": "display_data"
    }
   ],
   "source": [
    "import ipywidgets as widgets\n",
    "from IPython.display import display\n",
    "slider = widgets.IntSlider(1992, min=1993, max=2013, step=2)\n",
    "def on_change(v):\n",
    "    results = df[df['year'] == slider.value].to_dict(orient='records')\n",
    "    scatterplot.data = results\n",
    "    r.update()\n",
    "    \n",
    "slider.observe(on_change, names='value')\n",
    "display(slider)"
   ]
  },
  {
   "cell_type": "code",
   "execution_count": null,
   "metadata": {},
   "outputs": [],
   "source": []
  }
 ],
 "metadata": {
  "kernelspec": {
   "display_name": "Python 3",
   "language": "python",
   "name": "python3"
  },
  "language_info": {
   "codemirror_mode": {
    "name": "ipython",
    "version": 3
   },
   "file_extension": ".py",
   "mimetype": "text/x-python",
   "name": "python",
   "nbconvert_exporter": "python",
   "pygments_lexer": "ipython3",
   "version": "3.7.3"
  }
 },
 "nbformat": 4,
 "nbformat_minor": 2
}
