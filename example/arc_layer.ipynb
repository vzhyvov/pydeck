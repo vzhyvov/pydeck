{
 "cells": [
  {
   "cell_type": "code",
   "execution_count": 1,
   "metadata": {},
   "outputs": [
    {
     "data": {
      "text/html": [
       "\n",
       "        <iframe\n",
       "            width=\"700\"\n",
       "            height=\"500\"\n",
       "            src=\"./arc_layer.html\"\n",
       "            frameborder=\"0\"\n",
       "            allowfullscreen\n",
       "        ></iframe>\n",
       "        "
      ],
      "text/plain": [
       "<IPython.lib.display.IFrame at 0x26e262e05c0>"
      ]
     },
     "metadata": {},
     "output_type": "display_data"
    },
    {
     "data": {
      "text/plain": [
       "'C:\\\\Users\\\\vzhyvov\\\\pydeck\\\\arc_layer.html'"
      ]
     },
     "execution_count": 1,
     "metadata": {},
     "output_type": "execute_result"
    }
   ],
   "source": [
    "\"\"\"\n",
    "ArcLayer\n",
    "========\n",
    "\n",
    "Map of commutes to work within a segment of downtown San Francisco using a deck.gl ArcLayer.\n",
    "\n",
    "Green indicates a start point, and red indicates the destination.\n",
    "\n",
    "The data is collected by the US Census Bureau and viewable in the 2017 LODES data set: https://lehd.ces.census.gov/data/\n",
    "\"\"\"\n",
    "\n",
    "import pydeck\n",
    "import pandas as pd\n",
    "\n",
    "mapbox_key='pk.eyJ1IjoidnpoeXZvdiIsImEiOiJjazk5dmFpem4wMzBhM21zN3VmMWkwd3V3In0.SA5rXlodpUcoiQmCqqvKZw'\n",
    "DATA_URL = \"https://raw.githubusercontent.com/ajduberstein/sf_public_data/master/bay_area_commute_routes.csv\"\n",
    "DOWNTOWN_BOUNDING_BOX = [\n",
    "    -122.43135291617365,\n",
    "    37.766492914983864,\n",
    "    -122.38706428091974,\n",
    "    37.80583561830737,\n",
    "]\n",
    "\n",
    "\n",
    "def in_bounding_box(point):\n",
    "    lng, lat = point\n",
    "    in_lng_bounds = DOWNTOWN_BOUNDING_BOX[0] <= lng <= DOWNTOWN_BOUNDING_BOX[2]\n",
    "    in_lat_bounds = DOWNTOWN_BOUNDING_BOX[1] <= lat <= DOWNTOWN_BOUNDING_BOX[3]\n",
    "    return in_lng_bounds and in_lat_bounds\n",
    "\n",
    "\n",
    "df = pd.read_csv(DATA_URL)\n",
    "# Filter to bounding box\n",
    "df = df[df[[\"lng_w\", \"lat_w\"]].apply(lambda row: in_bounding_box(row), axis=1)]\n",
    "\n",
    "GREEN_RGB = [0, 255, 0, 40]\n",
    "RED_RGB = [240, 100, 0, 40]\n",
    "\n",
    "arc_layer = pydeck.Layer(\n",
    "    \"ArcLayer\",\n",
    "    data=df,\n",
    "    get_width=\"S000 * 2\",\n",
    "    get_source_position=[\"lng_h\", \"lat_h\"],\n",
    "    get_target_position=[\"lng_w\", \"lat_w\"],\n",
    "    get_tilt=15,\n",
    "    get_source_color=RED_RGB,\n",
    "    get_target_color=GREEN_RGB,\n",
    "    pickable=True,\n",
    "    auto_highlight=True,\n",
    ")\n",
    "\n",
    "view_state = pydeck.ViewState(latitude=37.7576171, longitude=-122.5776844, bearing=45, pitch=50, zoom=8,)\n",
    "\n",
    "\n",
    "TOOLTIP_TEXT = {\"html\": \"{S000} jobs <br /> Home of commuter in red; work location in green\"}\n",
    "r = pydeck.Deck(arc_layer, initial_view_state=view_state, tooltip=TOOLTIP_TEXT,mapbox_key=mapbox_key)\n",
    "r.to_html(\"arc_layer.html\")"
   ]
  },
  {
   "cell_type": "code",
   "execution_count": null,
   "metadata": {},
   "outputs": [],
   "source": []
  }
 ],
 "metadata": {
  "kernelspec": {
   "display_name": "Python 3",
   "language": "python",
   "name": "python3"
  },
  "language_info": {
   "codemirror_mode": {
    "name": "ipython",
    "version": 3
   },
   "file_extension": ".py",
   "mimetype": "text/x-python",
   "name": "python",
   "nbconvert_exporter": "python",
   "pygments_lexer": "ipython3",
   "version": "3.7.3"
  }
 },
 "nbformat": 4,
 "nbformat_minor": 2
}
