{
 "cells": [
  {
   "cell_type": "code",
   "execution_count": 2,
   "metadata": {},
   "outputs": [
    {
     "data": {
      "text/html": [
       "\n",
       "        <iframe\n",
       "            width=\"700\"\n",
       "            height=\"500\"\n",
       "            src=\"./bitmap_layer.html\"\n",
       "            frameborder=\"0\"\n",
       "            allowfullscreen\n",
       "        ></iframe>\n",
       "        "
      ],
      "text/plain": [
       "<IPython.lib.display.IFrame at 0x28845044748>"
      ]
     },
     "metadata": {},
     "output_type": "display_data"
    },
    {
     "data": {
      "text/plain": [
       "'C:\\\\Users\\\\vzhyvov\\\\pydeck\\\\bitmap_layer.html'"
      ]
     },
     "execution_count": 2,
     "metadata": {},
     "output_type": "execute_result"
    }
   ],
   "source": [
    "\"\"\"\n",
    "BitmapLayer\n",
    "===========\n",
    "\n",
    "A 1906 Britton & Rey's map of San Francisco's 1906 fire, overlaid on\n",
    "an interactive map of San Francisco.\n",
    "\"\"\"\n",
    "mapbox_key='pk.eyJ1IjoidnpoeXZvdiIsImEiOiJjazk5dmFpem4wMzBhM21zN3VmMWkwd3V3In0.SA5rXlodpUcoiQmCqqvKZw'\n",
    "import pydeck\n",
    "\n",
    "\n",
    "# Map of San Francisco from 1906\n",
    "IMG_URL = '\"https://i.imgur.com/W95ked7.jpg\"'\n",
    "\n",
    "BOUNDS = [\n",
    "    [-122.52690000000051, 37.70313158980733],\n",
    "    [-122.52690000000051, 37.816395657523195],\n",
    "    [-122.34604834372873, 37.816134829424335],\n",
    "    [-122.34656848822227, 37.70339041384273],\n",
    "]\n",
    "\n",
    "bitmap_layer = pydeck.Layer(\"BitmapLayer\", data=None, image=IMG_URL, bounds=BOUNDS, opacity=0.7)\n",
    "\n",
    "view_state = pydeck.ViewState(latitude=37.7576171, longitude=-122.5776844, zoom=10, bearing=-45, pitch=60,)\n",
    "\n",
    "r = pydeck.Deck(bitmap_layer, initial_view_state=view_state, map_style=\"mapbox://styles/mapbox/satellite-v9\",mapbox_key=mapbox_key)\n",
    "\n",
    "r.to_html(\"bitmap_layer.html\")"
   ]
  },
  {
   "cell_type": "code",
   "execution_count": null,
   "metadata": {},
   "outputs": [],
   "source": []
  }
 ],
 "metadata": {
  "kernelspec": {
   "display_name": "Python 3",
   "language": "python",
   "name": "python3"
  },
  "language_info": {
   "codemirror_mode": {
    "name": "ipython",
    "version": 3
   },
   "file_extension": ".py",
   "mimetype": "text/x-python",
   "name": "python",
   "nbconvert_exporter": "python",
   "pygments_lexer": "ipython3",
   "version": "3.7.3"
  }
 },
 "nbformat": 4,
 "nbformat_minor": 2
}
