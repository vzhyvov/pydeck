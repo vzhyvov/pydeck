{
 "cells": [
  {
   "cell_type": "code",
   "execution_count": 2,
   "metadata": {},
   "outputs": [
    {
     "data": {
      "text/html": [
       "\n",
       "        <iframe\n",
       "            width=\"700\"\n",
       "            height=\"500\"\n",
       "            src=\"./graph_example.html\"\n",
       "            frameborder=\"0\"\n",
       "            allowfullscreen\n",
       "        ></iframe>\n",
       "        "
      ],
      "text/plain": [
       "<IPython.lib.display.IFrame at 0x1846b6fd390>"
      ]
     },
     "metadata": {},
     "output_type": "display_data"
    }
   ],
   "source": [
    "\"\"\"\n",
    "Binary Transport\n",
    "================\n",
    "\n",
    "Example of binary transport in pydeck. This notebook renders 10k points via the web sockets within\n",
    "a Jupyter notebook if you run the ``generate_vis()`` function\n",
    "\"\"\"\n",
    "import pydeck\n",
    "\n",
    "import pandas as pd\n",
    "mapbox_key='pk.eyJ1IjoidnpoeXZvdiIsImEiOiJjazk5dmFpem4wMzBhM21zN3VmMWkwd3V3In0.SA5rXlodpUcoiQmCqqvKZw'\n",
    "\n",
    "NODES_URL = \"https://raw.githubusercontent.com/ajduberstein/geo_datasets/master/social_nodes.csv\"\n",
    "\n",
    "\n",
    "def generate_graph_data(num_nodes, random_seed):\n",
    "    \"\"\"Generates a graph of 10k nodes with a 3D force layout\n",
    "\n",
    "    This function is unused but serves as an example of how the data in\n",
    "    this visualization was generated\n",
    "    \"\"\"\n",
    "    import networkx as nx  # noqa\n",
    "\n",
    "    g = nx.random_internet_as_graph(num_nodes, random_seed)\n",
    "    node_positions = nx.fruchterman_reingold_layout(g, dim=3)\n",
    "\n",
    "    force_layout_df = pd.DataFrame.from_records(node_positions).transpose()\n",
    "    force_layout_df[\"group\"] = [d[1][\"type\"] for d in g.nodes.data()]\n",
    "    force_layout_df.columns = [\"x\", \"y\", \"z\", \"group\"]\n",
    "    return force_layout_df\n",
    "\n",
    "\n",
    "def make_renderer(nodes, use_binary_transport=False):\n",
    "    \"\"\"Creates the pydeck visualization for rendering\"\"\"\n",
    "    view_state = pydeck.ViewState(offset=[0, 0], latitude=None, longitude=None, bearing=None, pitch=None, zoom=1,)\n",
    "\n",
    "    views = [pydeck.View(type=\"OrbitView\", controller=True)]\n",
    "\n",
    "    nodes_layer = pydeck.Layer(\n",
    "        \"PointCloudLayer\",\n",
    "        nodes,\n",
    "        get_position=\"position\",\n",
    "        get_normal=[10, 100, 10],\n",
    "        get_color=\"color\",\n",
    "        pickable=True,\n",
    "        # Set use_binary_transport to `True`\n",
    "        use_binary_transport=use_binary_transport,\n",
    "        auto_highlight=True,\n",
    "        highlight_color=[255, 255, 0],\n",
    "        radius=50,\n",
    "    )\n",
    "\n",
    "    return pydeck.Deck(layers=[nodes_layer], initial_view_state=view_state, views=views, map_style=None,mapbox_key=mapbox_key)\n",
    "\n",
    "\n",
    "r = None\n",
    "\n",
    "\n",
    "def generate_vis(notebook_display=True):\n",
    "    global r\n",
    "    nodes = pd.read_csv(NODES_URL)\n",
    "\n",
    "    colors = pydeck.data_utils.assign_random_colors(nodes[\"group\"])\n",
    "    # Divide by 255 to normalize the colors\n",
    "    # Specify positions and colors as columns of lists\n",
    "    nodes[\"color\"] = nodes.apply(lambda row: [c / 255 for c in colors.get(row[\"group\"])], axis=1)\n",
    "    nodes[\"position\"] = nodes.apply(lambda row: [row[\"x\"], row[\"y\"], row[\"z\"]], axis=1)\n",
    "\n",
    "    # Remove all unused columns\n",
    "    del nodes[\"x\"]\n",
    "    del nodes[\"y\"]\n",
    "    del nodes[\"z\"]\n",
    "    del nodes[\"group\"]\n",
    "\n",
    "    r = make_renderer(nodes, use_binary_transport=False)\n",
    "    r.to_html(\"graph_example.html\", notebook_display=notebook_display)\n",
    "\n",
    "\n",
    "generate_vis()"
   ]
  },
  {
   "cell_type": "code",
   "execution_count": null,
   "metadata": {},
   "outputs": [],
   "source": []
  }
 ],
 "metadata": {
  "kernelspec": {
   "display_name": "Python 3",
   "language": "python",
   "name": "python3"
  },
  "language_info": {
   "codemirror_mode": {
    "name": "ipython",
    "version": 3
   },
   "file_extension": ".py",
   "mimetype": "text/x-python",
   "name": "python",
   "nbconvert_exporter": "python",
   "pygments_lexer": "ipython3",
   "version": "3.7.3"
  }
 },
 "nbformat": 4,
 "nbformat_minor": 2
}
