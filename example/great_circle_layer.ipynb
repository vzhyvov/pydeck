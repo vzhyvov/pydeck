{
 "cells": [
  {
   "cell_type": "code",
   "execution_count": 1,
   "metadata": {},
   "outputs": [
    {
     "data": {
      "text/html": [
       "\n",
       "        <iframe\n",
       "            width=\"700\"\n",
       "            height=\"500\"\n",
       "            src=\"./great_circle_layer.html\"\n",
       "            frameborder=\"0\"\n",
       "            allowfullscreen\n",
       "        ></iframe>\n",
       "        "
      ],
      "text/plain": [
       "<IPython.lib.display.IFrame at 0x244083a2b38>"
      ]
     },
     "metadata": {},
     "output_type": "display_data"
    },
    {
     "data": {
      "text/plain": [
       "'C:\\\\Users\\\\vzhyvov\\\\pydeck\\\\great_circle_layer.html'"
      ]
     },
     "execution_count": 1,
     "metadata": {},
     "output_type": "execute_result"
    }
   ],
   "source": [
    "\"\"\"\n",
    "GreatCircleLayer\n",
    "================\n",
    "\n",
    "Plot of direct flights to and from San Francisco International Airport.\n",
    "\n",
    "Origin is in green; destinations are in blue.\n",
    "\n",
    "Adapted from the deck.gl documentation.\n",
    "\"\"\"\n",
    "mapbox_key='pk.eyJ1IjoidnpoeXZvdiIsImEiOiJjazk5dmFpem4wMzBhM21zN3VmMWkwd3V3In0.SA5rXlodpUcoiQmCqqvKZw'\n",
    "\n",
    "import pydeck as pdk\n",
    "import pandas as pd\n",
    "\n",
    "GREAT_CIRCLE_LAYER_DATA = (\n",
    "    \"https://raw.githubusercontent.com/visgl/deck.gl-data/master/website/flights.json\"  # noqa\n",
    ")\n",
    "\n",
    "df = pd.read_json(GREAT_CIRCLE_LAYER_DATA)\n",
    "\n",
    "# Use pandas to prepare data for tooltip\n",
    "df[\"from_name\"] = df[\"from\"].apply(lambda f: f[\"name\"])\n",
    "df[\"to_name\"] = df[\"to\"].apply(lambda t: t[\"name\"])\n",
    "\n",
    "# Define a layer to display on a map\n",
    "layer = pdk.Layer(\n",
    "    \"GreatCircleLayer\",\n",
    "    df,\n",
    "    pickable=True,\n",
    "    get_stroke_width=12,\n",
    "    get_source_position=\"from.coordinates\",\n",
    "    get_target_position=\"to.coordinates\",\n",
    "    get_source_color=[64, 255, 0],\n",
    "    get_target_color=[0, 128, 200],\n",
    "    auto_highlight=True,\n",
    ")\n",
    "\n",
    "# Set the viewport location\n",
    "view_state = pdk.ViewState(latitude=50, longitude=-40, zoom=1, bearing=0, pitch=0)\n",
    "\n",
    "# Render\n",
    "r = pdk.Deck(layers=[layer], initial_view_state=view_state, tooltip={\"text\": \"{from_name} to {to_name}\"},mapbox_key=mapbox_key)\n",
    "r.picking_radius = 10\n",
    "\n",
    "r.to_html(\"great_circle_layer.html\", notebook_display=True)\n"
   ]
  },
  {
   "cell_type": "code",
   "execution_count": null,
   "metadata": {},
   "outputs": [],
   "source": []
  }
 ],
 "metadata": {
  "kernelspec": {
   "display_name": "Python 3",
   "language": "python",
   "name": "python3"
  },
  "language_info": {
   "codemirror_mode": {
    "name": "ipython",
    "version": 3
   },
   "file_extension": ".py",
   "mimetype": "text/x-python",
   "name": "python",
   "nbconvert_exporter": "python",
   "pygments_lexer": "ipython3",
   "version": "3.7.3"
  }
 },
 "nbformat": 4,
 "nbformat_minor": 2
}
