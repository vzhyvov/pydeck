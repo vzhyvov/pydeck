{
 "cells": [
  {
   "cell_type": "code",
   "execution_count": 1,
   "metadata": {},
   "outputs": [
    {
     "data": {
      "text/html": [
       "\n",
       "        <iframe\n",
       "            width=\"700\"\n",
       "            height=\"500\"\n",
       "            src=\"./line_layer.html\"\n",
       "            frameborder=\"0\"\n",
       "            allowfullscreen\n",
       "        ></iframe>\n",
       "        "
      ],
      "text/plain": [
       "<IPython.lib.display.IFrame at 0x253c4b6fef0>"
      ]
     },
     "metadata": {},
     "output_type": "display_data"
    },
    {
     "data": {
      "text/plain": [
       "'C:\\\\Users\\\\vzhyvov\\\\pydeck\\\\line_layer.html'"
      ]
     },
     "execution_count": 1,
     "metadata": {},
     "output_type": "execute_result"
    }
   ],
   "source": [
    "\"\"\"\n",
    "LineLayer\n",
    "=========\n",
    "\n",
    "Flights from Heathrow around Europe, adapted from the deck.gl documentation.\n",
    "\"\"\"\n",
    "mapbox_key='pk.eyJ1IjoidnpoeXZvdiIsImEiOiJjazk5dmFpem4wMzBhM21zN3VmMWkwd3V3In0.SA5rXlodpUcoiQmCqqvKZw'\n",
    "\n",
    "import pydeck\n",
    "\n",
    "DATA_URL = {\n",
    "    \"AIRPORTS\": \"https://raw.githubusercontent.com/visgl/deck.gl-data/master/examples/line/airports.json\",\n",
    "    \"FLIGHT_PATHS\": \"https://raw.githubusercontent.com/visgl/deck.gl-data/master/examples/line/heathrow-flights.json\",  # noqa\n",
    "}\n",
    "\n",
    "INITIAL_VIEW_STATE = pydeck.ViewState(latitude=47.65, longitude=7, zoom=4.5, max_zoom=16, pitch=50, bearing=0)\n",
    "\n",
    "# RGBA value generated in Javascript by deck.gl's Javascript expression parser\n",
    "GET_COLOR_JS = [\n",
    "    \"255 * (1 - (start[2] / 10000) * 2)\",\n",
    "    \"128 * (start[2] / 10000)\",\n",
    "    \"255 * (start[2] / 10000)\",\n",
    "    \"255 * (1 - (start[2] / 10000))\",\n",
    "]\n",
    "\n",
    "scatterplot = pydeck.Layer(\n",
    "    \"ScatterplotLayer\",\n",
    "    DATA_URL[\"AIRPORTS\"],\n",
    "    radius_scale=20,\n",
    "    get_position=\"coordinates\",\n",
    "    get_fill_color=[255, 140, 0],\n",
    "    get_radius=60,\n",
    "    pickable=True,\n",
    ")\n",
    "\n",
    "line_layer = pydeck.Layer(\n",
    "    \"LineLayer\",\n",
    "    DATA_URL[\"FLIGHT_PATHS\"],\n",
    "    get_source_position=\"start\",\n",
    "    get_target_position=\"end\",\n",
    "    get_color=GET_COLOR_JS,\n",
    "    get_width=10,\n",
    "    highlight_color=[255, 255, 0],\n",
    "    picking_radius=10,\n",
    "    auto_highlight=True,\n",
    "    pickable=True,\n",
    ")\n",
    "\n",
    "layers = [scatterplot, line_layer]\n",
    "\n",
    "r = pydeck.Deck(layers=layers, initial_view_state=INITIAL_VIEW_STATE, mapbox_key=mapbox_key)\n",
    "r.to_html(\"line_layer.html\")\n"
   ]
  },
  {
   "cell_type": "code",
   "execution_count": null,
   "metadata": {},
   "outputs": [],
   "source": []
  }
 ],
 "metadata": {
  "kernelspec": {
   "display_name": "Python 3",
   "language": "python",
   "name": "python3"
  },
  "language_info": {
   "codemirror_mode": {
    "name": "ipython",
    "version": 3
   },
   "file_extension": ".py",
   "mimetype": "text/x-python",
   "name": "python",
   "nbconvert_exporter": "python",
   "pygments_lexer": "ipython3",
   "version": "3.7.3"
  }
 },
 "nbformat": 4,
 "nbformat_minor": 2
}
