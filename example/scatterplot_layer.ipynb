{
 "cells": [
  {
   "cell_type": "code",
   "execution_count": 1,
   "metadata": {},
   "outputs": [
    {
     "data": {
      "text/html": [
       "\n",
       "        <iframe\n",
       "            width=\"700\"\n",
       "            height=\"500\"\n",
       "            src=\"./scatterplot_layer.html\"\n",
       "            frameborder=\"0\"\n",
       "            allowfullscreen\n",
       "        ></iframe>\n",
       "        "
      ],
      "text/plain": [
       "<IPython.lib.display.IFrame at 0x204f920d240>"
      ]
     },
     "metadata": {},
     "output_type": "display_data"
    },
    {
     "data": {
      "text/plain": [
       "'C:\\\\Users\\\\vzhyvov\\\\pydeck\\\\scatterplot_layer.html'"
      ]
     },
     "execution_count": 1,
     "metadata": {},
     "output_type": "execute_result"
    }
   ],
   "source": [
    "\"\"\"\n",
    "ScatterplotLayer\n",
    "================\n",
    "\n",
    "Plot of the number of exits for various subway stops within San Francisco, California.\n",
    "\n",
    "Adapted from the deck.gl documentation.\n",
    "\"\"\"\n",
    "\n",
    "import pydeck as pdk\n",
    "import pandas as pd\n",
    "import math\n",
    "mapbox_key='pk.eyJ1IjoidnpoeXZvdiIsImEiOiJjazk5dmFpem4wMzBhM21zN3VmMWkwd3V3In0.SA5rXlodpUcoiQmCqqvKZw'\n",
    "\n",
    "SCATTERPLOT_LAYER_DATA = \"https://raw.githubusercontent.com/visgl/deck.gl-data/master/website/bart-stations.json\"\n",
    "df = pd.read_json(SCATTERPLOT_LAYER_DATA)\n",
    "\n",
    "# Use pandas to calculate additional data\n",
    "df[\"exits_radius\"] = df[\"exits\"].apply(lambda exits_count: math.sqrt(exits_count))\n",
    "\n",
    "# Define a layer to display on a map\n",
    "layer = pdk.Layer(\n",
    "    \"ScatterplotLayer\",\n",
    "    df,\n",
    "    pickable=True,\n",
    "    opacity=0.8,\n",
    "    stroked=True,\n",
    "    filled=True,\n",
    "    radius_scale=6,\n",
    "    radius_min_pixels=1,\n",
    "    radius_max_pixels=100,\n",
    "    line_width_min_pixels=1,\n",
    "    get_position=\"coordinates\",\n",
    "    get_radius=\"exits_radius\",\n",
    "    get_fill_color=[255, 140, 0],\n",
    "    get_line_color=[0, 0, 0],\n",
    ")\n",
    "\n",
    "# Set the viewport location\n",
    "view_state = pdk.ViewState(latitude=37.7749295, longitude=-122.4194155, zoom=10, bearing=0, pitch=0)\n",
    "\n",
    "# Render\n",
    "r = pdk.Deck(layers=[layer], initial_view_state=view_state, tooltip={\"text\": \"{name}\\n{address}\"},mapbox_key=mapbox_key)\n",
    "r.to_html(\"scatterplot_layer.html\")\n"
   ]
  },
  {
   "cell_type": "code",
   "execution_count": null,
   "metadata": {},
   "outputs": [],
   "source": []
  }
 ],
 "metadata": {
  "kernelspec": {
   "display_name": "Python 3",
   "language": "python",
   "name": "python3"
  },
  "language_info": {
   "codemirror_mode": {
    "name": "ipython",
    "version": 3
   },
   "file_extension": ".py",
   "mimetype": "text/x-python",
   "name": "python",
   "nbconvert_exporter": "python",
   "pygments_lexer": "ipython3",
   "version": "3.7.3"
  }
 },
 "nbformat": 4,
 "nbformat_minor": 2
}
