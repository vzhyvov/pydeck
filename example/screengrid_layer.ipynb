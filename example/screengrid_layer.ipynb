{
 "cells": [
  {
   "cell_type": "code",
   "execution_count": 1,
   "metadata": {},
   "outputs": [
    {
     "data": {
      "text/html": [
       "\n",
       "        <iframe\n",
       "            width=\"700\"\n",
       "            height=\"500\"\n",
       "            src=\"./screengrid_layer.html\"\n",
       "            frameborder=\"0\"\n",
       "            allowfullscreen\n",
       "        ></iframe>\n",
       "        "
      ],
      "text/plain": [
       "<IPython.lib.display.IFrame at 0x22bb5c142b0>"
      ]
     },
     "metadata": {},
     "output_type": "display_data"
    },
    {
     "data": {
      "text/plain": [
       "'C:\\\\Users\\\\vzhyvov\\\\pydeck\\\\screengrid_layer.html'"
      ]
     },
     "execution_count": 1,
     "metadata": {},
     "output_type": "execute_result"
    }
   ],
   "source": [
    "\"\"\"\n",
    "ScreenGridLayer\n",
    "===============\n",
    "\n",
    "Locations of bike parking within San Francisco. Aggregation level varies depending on the viewport of the user.\n",
    "\n",
    "Adapted from the deck.gl documentation.\n",
    "\"\"\"\n",
    "\n",
    "import pydeck as pdk\n",
    "import pandas as pd\n",
    "mapbox_key='pk.eyJ1IjoidnpoeXZvdiIsImEiOiJjazk5dmFpem4wMzBhM21zN3VmMWkwd3V3In0.SA5rXlodpUcoiQmCqqvKZw'\n",
    "\n",
    "SCREEN_GRID_LAYER_DATA = (\n",
    "    \"https://raw.githubusercontent.com/visgl/deck.gl-data/master/website/sf-bike-parking.json\"  # noqa\n",
    ")\n",
    "df = pd.read_json(SCREEN_GRID_LAYER_DATA)\n",
    "\n",
    "# Define a layer to display on a map\n",
    "layer = pdk.Layer(\n",
    "    \"ScreenGridLayer\",\n",
    "    df,\n",
    "    pickable=False,\n",
    "    opacity=0.8,\n",
    "    cell_size_pixels=50,\n",
    "    color_range=[\n",
    "        [0, 25, 0, 25],\n",
    "        [0, 85, 0, 85],\n",
    "        [0, 127, 0, 127],\n",
    "        [0, 170, 0, 170],\n",
    "        [0, 190, 0, 190],\n",
    "        [0, 255, 0, 255],\n",
    "    ],\n",
    "    get_position=\"COORDINATES\",\n",
    "    get_weight=\"SPACES\",\n",
    ")\n",
    "\n",
    "# Set the viewport location\n",
    "view_state = pdk.ViewState(latitude=37.7749295, longitude=-122.4194155, zoom=11, bearing=0, pitch=0)\n",
    "\n",
    "# Render\n",
    "r = pdk.Deck(layers=[layer], initial_view_state=view_state,mapbox_key=mapbox_key)\n",
    "r.to_html(\"screengrid_layer.html\")\n"
   ]
  },
  {
   "cell_type": "code",
   "execution_count": null,
   "metadata": {},
   "outputs": [],
   "source": []
  }
 ],
 "metadata": {
  "kernelspec": {
   "display_name": "Python 3",
   "language": "python",
   "name": "python3"
  },
  "language_info": {
   "codemirror_mode": {
    "name": "ipython",
    "version": 3
   },
   "file_extension": ".py",
   "mimetype": "text/x-python",
   "name": "python",
   "nbconvert_exporter": "python",
   "pygments_lexer": "ipython3",
   "version": "3.7.3"
  }
 },
 "nbformat": 4,
 "nbformat_minor": 2
}
