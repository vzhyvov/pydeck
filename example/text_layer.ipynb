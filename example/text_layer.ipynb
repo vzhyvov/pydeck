{
 "cells": [
  {
   "cell_type": "code",
   "execution_count": 1,
   "metadata": {},
   "outputs": [
    {
     "data": {
      "text/html": [
       "\n",
       "        <iframe\n",
       "            width=\"700\"\n",
       "            height=\"500\"\n",
       "            src=\"./text_layer.html\"\n",
       "            frameborder=\"0\"\n",
       "            allowfullscreen\n",
       "        ></iframe>\n",
       "        "
      ],
      "text/plain": [
       "<IPython.lib.display.IFrame at 0x1f70edfe1d0>"
      ]
     },
     "metadata": {},
     "output_type": "display_data"
    },
    {
     "data": {
      "text/plain": [
       "'C:\\\\Users\\\\vzhyvov\\\\pydeck\\\\text_layer.html'"
      ]
     },
     "execution_count": 1,
     "metadata": {},
     "output_type": "execute_result"
    }
   ],
   "source": [
    "\"\"\"\n",
    "TextLayer\n",
    "========\n",
    "\n",
    "Names of various public transit stops within San Francisco, plotted at the location of that stop\n",
    "\"\"\"\n",
    "\n",
    "import pydeck as pdk\n",
    "import pandas as pd\n",
    "mapbox_key='pk.eyJ1IjoidnpoeXZvdiIsImEiOiJjazk5dmFpem4wMzBhM21zN3VmMWkwd3V3In0.SA5rXlodpUcoiQmCqqvKZw'\n",
    "\n",
    "TEXT_LAYER_DATA = \"https://raw.githubusercontent.com/visgl/deck.gl-data/master/website/bart-stations.json\"  # noqa\n",
    "df = pd.read_json(TEXT_LAYER_DATA)\n",
    "\n",
    "# Define a layer to display on a map\n",
    "layer = pdk.Layer(\n",
    "    \"TextLayer\",\n",
    "    df,\n",
    "    pickable=True,\n",
    "    get_position=\"coordinates\",\n",
    "    get_text=\"name\",\n",
    "    get_size=16,\n",
    "    get_color=[255, 255, 255],\n",
    "    get_angle=0,\n",
    "    # Note that string constants in pydeck are explicitly passed as strings\n",
    "    # This distinguishes them from columns in a data set\n",
    "    get_text_anchor=\"'middle'\",\n",
    "    get_alignment_baseline=\"'center'\",\n",
    ")\n",
    "\n",
    "# Set the viewport location\n",
    "view_state = pdk.ViewState(latitude=37.7749295, longitude=-122.4194155, zoom=10, bearing=0, pitch=45)\n",
    "\n",
    "# Render\n",
    "r = pdk.Deck(\n",
    "    layers=[layer],\n",
    "    initial_view_state=view_state,\n",
    "    tooltip={\"text\": \"{name}\\n{address}\"},\n",
    "    map_style=\"mapbox://styles/mapbox/satellite-v9\",\n",
    "    mapbox_key=mapbox_key\n",
    ")\n",
    "r.to_html(\"text_layer.html\")\n"
   ]
  },
  {
   "cell_type": "code",
   "execution_count": null,
   "metadata": {},
   "outputs": [],
   "source": []
  }
 ],
 "metadata": {
  "kernelspec": {
   "display_name": "Python 3",
   "language": "python",
   "name": "python3"
  },
  "language_info": {
   "codemirror_mode": {
    "name": "ipython",
    "version": 3
   },
   "file_extension": ".py",
   "mimetype": "text/x-python",
   "name": "python",
   "nbconvert_exporter": "python",
   "pygments_lexer": "ipython3",
   "version": "3.7.3"
  }
 },
 "nbformat": 4,
 "nbformat_minor": 2
}
