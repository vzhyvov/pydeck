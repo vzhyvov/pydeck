{
 "cells": [
  {
   "cell_type": "code",
   "execution_count": 1,
   "metadata": {},
   "outputs": [
    {
     "data": {
      "text/html": [
       "\n",
       "        <iframe\n",
       "            width=\"700\"\n",
       "            height=\"500\"\n",
       "            src=\"./trips_layer.html\"\n",
       "            frameborder=\"0\"\n",
       "            allowfullscreen\n",
       "        ></iframe>\n",
       "        "
      ],
      "text/plain": [
       "<IPython.lib.display.IFrame at 0x2057ad97b70>"
      ]
     },
     "metadata": {},
     "output_type": "display_data"
    },
    {
     "data": {
      "text/plain": [
       "'C:\\\\Users\\\\vzhyvov\\\\pydeck\\\\trips_layer.html'"
      ]
     },
     "execution_count": 1,
     "metadata": {},
     "output_type": "execute_result"
    }
   ],
   "source": [
    "\"\"\"\n",
    "TripsLayer\n",
    "==========\n",
    "\n",
    "Plot of a single vehicle trip within San Francisco, fading in from the origin.\n",
    "\n",
    "Adapted from a deck.gl documentation example.\n",
    "\"\"\"\n",
    "\n",
    "import pydeck as pdk\n",
    "import pandas as pd\n",
    "mapbox_key='pk.eyJ1IjoidnpoeXZvdiIsImEiOiJjazk5dmFpem4wMzBhM21zN3VmMWkwd3V3In0.SA5rXlodpUcoiQmCqqvKZw'\n",
    "\n",
    "TRIPS_LAYER_DATA = \"https://raw.githubusercontent.com/visgl/deck.gl-data/master/website/sf.trips.json\"  # noqa\n",
    "\n",
    "df = pd.read_json(TRIPS_LAYER_DATA)\n",
    "\n",
    "df[\"coordinates\"] = df[\"waypoints\"].apply(lambda f: [item[\"coordinates\"] for item in f])\n",
    "df[\"timestamps\"] = df[\"waypoints\"].apply(lambda f: [item[\"timestamp\"] - 1554772579000 for item in f])\n",
    "\n",
    "df.drop([\"waypoints\"], axis=1, inplace=True)\n",
    "\n",
    "layer = pdk.Layer(\n",
    "    \"TripsLayer\",\n",
    "    df,\n",
    "    get_path=\"coordinates\",\n",
    "    get_timestamps=\"timestamps\",\n",
    "    get_color=[253, 128, 93],\n",
    "    opacity=0.8,\n",
    "    width_min_pixels=5,\n",
    "    rounded=True,\n",
    "    trail_length=600,\n",
    "    current_time=500,\n",
    ")\n",
    "\n",
    "view_state = pdk.ViewState(latitude=37.7749295, longitude=-122.4194155, zoom=11, bearing=0, pitch=45)\n",
    "\n",
    "# Render\n",
    "r = pdk.Deck(layers=[layer], initial_view_state=view_state,mapbox_key=mapbox_key)\n",
    "r.to_html(\"trips_layer.html\")\n"
   ]
  },
  {
   "cell_type": "code",
   "execution_count": null,
   "metadata": {},
   "outputs": [],
   "source": []
  }
 ],
 "metadata": {
  "kernelspec": {
   "display_name": "Python 3",
   "language": "python",
   "name": "python3"
  },
  "language_info": {
   "codemirror_mode": {
    "name": "ipython",
    "version": 3
   },
   "file_extension": ".py",
   "mimetype": "text/x-python",
   "name": "python",
   "nbconvert_exporter": "python",
   "pygments_lexer": "ipython3",
   "version": "3.7.3"
  }
 },
 "nbformat": 4,
 "nbformat_minor": 2
}
